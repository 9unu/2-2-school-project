{
 "cells": [
  {
   "cell_type": "markdown",
   "id": "30fc152d",
   "metadata": {},
   "source": [
    "## 1. 주제: 닭가슴살의 가격과 판매량(순위)의 관계"
   ]
  },
  {
   "cell_type": "markdown",
   "id": "42502232",
   "metadata": {},
   "source": [
    "## 2. 가설:\n",
    "    \n",
    "2_1: g당 가격이 낮을 수록 닭가슴살 제품(생닭가슴살, 가공 닭가슴살)판매량이 높을 것이다.\n",
    "\n",
    "2_2 같은 브랜드의 생닭가슴살과 가공 닭가슴살은 각 카테고리(냉동 닭가슴살/ 가공 닭가슴살)에서 비슷한 판매순위를 가질 것 이다.\n",
    "\n",
    "*소세지, 큐브형 제품은 제외\n",
    "(사유: 단백질함량의 편차가 다른 일반 제품에 비해 너무 크기때문에 g당 가격 비교에서 오히려 데이터 분석의 질을 떨어지게 한다고 생각함)\n",
    "\n",
    "2_3 배송비가 있는 제품과 없는 제품을 나누어서 분석하면 평균적인 100g당 가격은 같을 것 이다.\n",
    "(경험상 배송비가 있는 제품의 경우 원가격이 저렴한 경우가 많았음)\n",
    "\n",
    "2-4 제품 무게가 무거울수록 100g당 가격이 저렴할 것이다."
   ]
  },
  {
   "cell_type": "markdown",
   "id": "1fe1d513",
   "metadata": {},
   "source": [
    "## 3. 분석할 데이터의 출처와 데이터 내용:\n",
    "\n",
    "데이터 출처: 쿠팡\n",
    "    \n",
    "데이터 내용: 각 닭가슴살 제품의 가격, 무게, 판매순위, 배송비\n",
    "    \n",
    "   ->100g당 가격(가격/무게)*100과 총지불 비용 계산(가격 + 배송비)"
   ]
  },
  {
   "cell_type": "markdown",
   "id": "84987a8c",
   "metadata": {},
   "source": [
    "## 4. 분석계획\n",
    "\n",
    "쿠팡 사이트에서 판매량 순으로 생닭가슴살, 가공닭가슴살의 제품정보 (그람수, 가격, 판매순위, 배송비)를 excel에 크롤링.(각각 75개, 100개)\n",
    "\n",
    "*생닭가슴살의 경우 75개 이상부터 앞에 나온 제품이 중복적으로 나와서 의미가 없다고 판단함\n",
    "\n",
    "그 후 가설에 맞춰서 데이터 분석\n",
    "\n",
    "2_1번 가설(생닭가슴살, 가공닭가슴살 동일하게 진행): excel파일의 제품정보(제품 무게, 가격, 배송비)를 이용하여 총 지불 비용과 100g당 가격을 환산\n",
    "\n",
    "->matrix에서 제품명, 100g당 가격, 판매순위만을 뽑아낸 새로운 matrix를 생성\n",
    "\n",
    "->판매순위로 내림차순 정렬되어있는 데이터를 3개의 구간(고가, 중가, 저가)로 나누어서 각 구간별 평균,분산 등의 통계량 계산\n",
    "\n",
    "->판매순위와 100g당 가격의 인과관계가 있는지 확인\n",
    "\n",
    "2-2번 가설: 생닭가슴살과 냉동 닭가슴살을 각각 3개의 구간(고가, 중가, 저가)로 나누어서 각 구간별 브랜드의 빈도수 계산\n",
    "\n",
    "->빈도수가 높은 3개 브랜드만 추출\n",
    "\n",
    "->생닭가슴살에서 나온 브랜드들과 가공 닭가슴살제품에서 나온 브랜드가 일치하는지 확인\n",
    "\n",
    "2_3번 가설: 배송비가 0인 제품과 배송비가 0보다 큰 제품을 나누어서 100g당 가격의 평균을 구해서 비교\n",
    "\n",
    "2_4번 가설: 제품 무게와 총가격만을 뽑아낸 새로운 matrix를 3개의 구간 (고가, 중가, 저가)로 나누어서 구간별 평균 가격을 비교 \n",
    "\n",
    " "
   ]
  },
  {
   "cell_type": "markdown",
   "id": "c0a992db",
   "metadata": {},
   "source": [
    "## 5. 분석결과\n"
   ]
  },
  {
   "cell_type": "code",
   "execution_count": 1,
   "id": "5bb940aa",
   "metadata": {},
   "outputs": [],
   "source": [
    "import pandas"
   ]
  },
  {
   "cell_type": "code",
   "execution_count": 2,
   "id": "299aee8c",
   "metadata": {
    "scrolled": true
   },
   "outputs": [],
   "source": [
    "B= pandas.read_excel(\"C:\\\\Users\\\\USER\\\\닭가슴살 판매량 정리.xlsx\")\n"
   ]
  },
  {
   "cell_type": "code",
   "execution_count": 53,
   "id": "02060fef",
   "metadata": {
    "scrolled": false
   },
   "outputs": [
    {
     "data": {
      "text/plain": [
       "<AxesSubplot:xlabel='그람수', ylabel='가격'>"
      ]
     },
     "execution_count": 53,
     "metadata": {},
     "output_type": "execute_result"
    },
    {
     "data": {
      "image/png": "[encoded data removed]",
      "text/plain": [
       "<Figure size 432x288 with 1 Axes>"
      ]
     },
     "metadata": {
      "needs_background": "light"
     },
     "output_type": "display_data"
    }
   ],
   "source": [
    "B.plot.scatter(x='그람수', y='가격')"
   ]
  },
  {
   "cell_type": "markdown",
   "id": "f3671760",
   "metadata": {},
   "source": [
    " #### 첫번째 execel파일인 가공 닭가슴살 데이터의 분포도를 시각화했을 때\n",
    " \n",
    " #### 가공 닭가슴살 판매 제품의 그람수가 대체적으로 1키로~3키로 사이에 분포하는 것을 확인함."
   ]
  },
  {
   "cell_type": "markdown",
   "id": "064e7edb",
   "metadata": {},
   "source": [
    "***"
   ]
  },
  {
   "cell_type": "markdown",
   "id": "d8a50eb0",
   "metadata": {},
   "source": [
    "#### 가설 1번(닭가슴살 제품): 대체적으로 g당 가격이 낮을 수록 닭가슴살 제품 판매 순위가 높을 것이다.\n"
   ]
  },
  {
   "cell_type": "code",
   "execution_count": 4,
   "id": "9abc559f",
   "metadata": {},
   "outputs": [],
   "source": [
    "B['총 지불비용']=B['가격']+B['배송비']"
   ]
  },
  {
   "cell_type": "code",
   "execution_count": 5,
   "id": "b66d24ff",
   "metadata": {
    "scrolled": true
   },
   "outputs": [],
   "source": [
    "B['100g당 가격']=B['총 지불비용']/B['그람수']*100"
   ]
  },
  {
   "cell_type": "code",
   "execution_count": 6,
   "id": "5bbad56e",
   "metadata": {
    "scrolled": true
   },
   "outputs": [
    {
     "data": {
      "text/html": [
       "<div>\n",
       "<style scoped>\n",
       "    .dataframe tbody tr th:only-of-type {\n",
       "        vertical-align: middle;\n",
       "    }\n",
       "\n",
       "    .dataframe tbody tr th {\n",
       "        vertical-align: top;\n",
       "    }\n",
       "\n",
       "    .dataframe thead th {\n",
       "        text-align: right;\n",
       "    }\n",
       "</style>\n",
       "<table border=\"1\" class=\"dataframe\">\n",
       "  <thead>\n",
       "    <tr style=\"text-align: right;\">\n",
       "      <th></th>\n",
       "      <th>제품명</th>\n",
       "      <th>100g당 가격</th>\n",
       "      <th>판매순위</th>\n",
       "    </tr>\n",
       "  </thead>\n",
       "  <tbody>\n",
       "    <tr>\n",
       "      <th>0</th>\n",
       "      <td>하림 닭가슴살 블랙페퍼</td>\n",
       "      <td>1718.750000</td>\n",
       "      <td>1</td>\n",
       "    </tr>\n",
       "    <tr>\n",
       "      <th>1</th>\n",
       "      <td>한끼 통살 그릴드 닭가슴살 5종</td>\n",
       "      <td>2390.000000</td>\n",
       "      <td>2</td>\n",
       "    </tr>\n",
       "    <tr>\n",
       "      <th>2</th>\n",
       "      <td>햇살닭 저염 훈제닭가슴살 플러스(냉동)</td>\n",
       "      <td>1950.000000</td>\n",
       "      <td>3</td>\n",
       "    </tr>\n",
       "    <tr>\n",
       "      <th>3</th>\n",
       "      <td>한끼 통살 통살 닭가슴살 허니소이 (냉동)</td>\n",
       "      <td>2190.000000</td>\n",
       "      <td>4</td>\n",
       "    </tr>\n",
       "    <tr>\n",
       "      <th>4</th>\n",
       "      <td>한끼통살 닭가슴살 데리야끼</td>\n",
       "      <td>2190.000000</td>\n",
       "      <td>5</td>\n",
       "    </tr>\n",
       "    <tr>\n",
       "      <th>...</th>\n",
       "      <td>...</td>\n",
       "      <td>...</td>\n",
       "      <td>...</td>\n",
       "    </tr>\n",
       "    <tr>\n",
       "      <th>95</th>\n",
       "      <td>채우닭 실온 닭가슴살 오리지날 30팩</td>\n",
       "      <td>2250.000000</td>\n",
       "      <td>96</td>\n",
       "    </tr>\n",
       "    <tr>\n",
       "      <th>96</th>\n",
       "      <td>이츠웰 부드러운 닭가슴살 스팀</td>\n",
       "      <td>1790.000000</td>\n",
       "      <td>97</td>\n",
       "    </tr>\n",
       "    <tr>\n",
       "      <th>97</th>\n",
       "      <td>교촌 프레시업 슬라이스 닭가슴살 4종 22팩</td>\n",
       "      <td>1359.090909</td>\n",
       "      <td>98</td>\n",
       "    </tr>\n",
       "    <tr>\n",
       "      <th>98</th>\n",
       "      <td>곰곰 허브 닭가슴살(냉장)</td>\n",
       "      <td>1634.545455</td>\n",
       "      <td>99</td>\n",
       "    </tr>\n",
       "    <tr>\n",
       "      <th>99</th>\n",
       "      <td>오빠닭 통닭가슴살 혼합 30팩</td>\n",
       "      <td>1516.666667</td>\n",
       "      <td>100</td>\n",
       "    </tr>\n",
       "  </tbody>\n",
       "</table>\n",
       "<p>100 rows × 3 columns</p>\n",
       "</div>"
      ],
      "text/plain": [
       "                         제품명     100g당 가격  판매순위\n",
       "0               하림 닭가슴살 블랙페퍼  1718.750000     1\n",
       "1          한끼 통살 그릴드 닭가슴살 5종  2390.000000     2\n",
       "2      햇살닭 저염 훈제닭가슴살 플러스(냉동)  1950.000000     3\n",
       "3    한끼 통살 통살 닭가슴살 허니소이 (냉동)  2190.000000     4\n",
       "4             한끼통살 닭가슴살 데리야끼  2190.000000     5\n",
       "..                       ...          ...   ...\n",
       "95      채우닭 실온 닭가슴살 오리지날 30팩  2250.000000    96\n",
       "96          이츠웰 부드러운 닭가슴살 스팀  1790.000000    97\n",
       "97  교촌 프레시업 슬라이스 닭가슴살 4종 22팩  1359.090909    98\n",
       "98            곰곰 허브 닭가슴살(냉장)  1634.545455    99\n",
       "99          오빠닭 통닭가슴살 혼합 30팩  1516.666667   100\n",
       "\n",
       "[100 rows x 3 columns]"
      ]
     },
     "execution_count": 6,
     "metadata": {},
     "output_type": "execute_result"
    }
   ],
   "source": [
    "B[['제품명','100g당 가격', '판매순위']]"
   ]
  },
  {
   "cell_type": "markdown",
   "id": "5f7708fa",
   "metadata": {},
   "source": [
    "판매순위를 기준으로 상(1 ~ 33위), 중(34 ~ 67위), 하(68~100위)로 나누어 각 집단의 평균 및 분산 등의 통계량을 계산"
   ]
  },
  {
   "cell_type": "code",
   "execution_count": 7,
   "id": "5850a68d",
   "metadata": {
    "scrolled": false
   },
   "outputs": [
    {
     "data": {
      "text/html": [
       "<div>\n",
       "<style scoped>\n",
       "    .dataframe tbody tr th:only-of-type {\n",
       "        vertical-align: middle;\n",
       "    }\n",
       "\n",
       "    .dataframe tbody tr th {\n",
       "        vertical-align: top;\n",
       "    }\n",
       "\n",
       "    .dataframe thead th {\n",
       "        text-align: right;\n",
       "    }\n",
       "</style>\n",
       "<table border=\"1\" class=\"dataframe\">\n",
       "  <thead>\n",
       "    <tr style=\"text-align: right;\">\n",
       "      <th></th>\n",
       "      <th>100g당 가격</th>\n",
       "    </tr>\n",
       "  </thead>\n",
       "  <tbody>\n",
       "    <tr>\n",
       "      <th>count</th>\n",
       "      <td>33.000000</td>\n",
       "    </tr>\n",
       "    <tr>\n",
       "      <th>mean</th>\n",
       "      <td>1925.124442</td>\n",
       "    </tr>\n",
       "    <tr>\n",
       "      <th>std</th>\n",
       "      <td>362.083405</td>\n",
       "    </tr>\n",
       "    <tr>\n",
       "      <th>min</th>\n",
       "      <td>1199.500000</td>\n",
       "    </tr>\n",
       "    <tr>\n",
       "      <th>25%</th>\n",
       "      <td>1673.333333</td>\n",
       "    </tr>\n",
       "    <tr>\n",
       "      <th>50%</th>\n",
       "      <td>1899.000000</td>\n",
       "    </tr>\n",
       "    <tr>\n",
       "      <th>75%</th>\n",
       "      <td>2190.000000</td>\n",
       "    </tr>\n",
       "    <tr>\n",
       "      <th>max</th>\n",
       "      <td>2658.333333</td>\n",
       "    </tr>\n",
       "  </tbody>\n",
       "</table>\n",
       "</div>"
      ],
      "text/plain": [
       "          100g당 가격\n",
       "count    33.000000\n",
       "mean   1925.124442\n",
       "std     362.083405\n",
       "min    1199.500000\n",
       "25%    1673.333333\n",
       "50%    1899.000000\n",
       "75%    2190.000000\n",
       "max    2658.333333"
      ]
     },
     "execution_count": 7,
     "metadata": {},
     "output_type": "execute_result"
    }
   ],
   "source": [
    "top=B.loc[:32, ['100g당 가격']]\n",
    "top.describe()"
   ]
  },
  {
   "cell_type": "code",
   "execution_count": 8,
   "id": "463472f4",
   "metadata": {},
   "outputs": [
    {
     "data": {
      "text/html": [
       "<div>\n",
       "<style scoped>\n",
       "    .dataframe tbody tr th:only-of-type {\n",
       "        vertical-align: middle;\n",
       "    }\n",
       "\n",
       "    .dataframe tbody tr th {\n",
       "        vertical-align: top;\n",
       "    }\n",
       "\n",
       "    .dataframe thead th {\n",
       "        text-align: right;\n",
       "    }\n",
       "</style>\n",
       "<table border=\"1\" class=\"dataframe\">\n",
       "  <thead>\n",
       "    <tr style=\"text-align: right;\">\n",
       "      <th></th>\n",
       "      <th>100g당 가격</th>\n",
       "    </tr>\n",
       "  </thead>\n",
       "  <tbody>\n",
       "    <tr>\n",
       "      <th>count</th>\n",
       "      <td>34.000000</td>\n",
       "    </tr>\n",
       "    <tr>\n",
       "      <th>mean</th>\n",
       "      <td>1792.985138</td>\n",
       "    </tr>\n",
       "    <tr>\n",
       "      <th>std</th>\n",
       "      <td>477.388424</td>\n",
       "    </tr>\n",
       "    <tr>\n",
       "      <th>min</th>\n",
       "      <td>222.000000</td>\n",
       "    </tr>\n",
       "    <tr>\n",
       "      <th>25%</th>\n",
       "      <td>1487.500000</td>\n",
       "    </tr>\n",
       "    <tr>\n",
       "      <th>50%</th>\n",
       "      <td>1763.125000</td>\n",
       "    </tr>\n",
       "    <tr>\n",
       "      <th>75%</th>\n",
       "      <td>2192.500000</td>\n",
       "    </tr>\n",
       "    <tr>\n",
       "      <th>max</th>\n",
       "      <td>2490.000000</td>\n",
       "    </tr>\n",
       "  </tbody>\n",
       "</table>\n",
       "</div>"
      ],
      "text/plain": [
       "          100g당 가격\n",
       "count    34.000000\n",
       "mean   1792.985138\n",
       "std     477.388424\n",
       "min     222.000000\n",
       "25%    1487.500000\n",
       "50%    1763.125000\n",
       "75%    2192.500000\n",
       "max    2490.000000"
      ]
     },
     "execution_count": 8,
     "metadata": {},
     "output_type": "execute_result"
    }
   ],
   "source": [
    "mid=B.loc[33:66, ['100g당 가격']]\n",
    "mid.describe()"
   ]
  },
  {
   "cell_type": "code",
   "execution_count": 9,
   "id": "05bc36cb",
   "metadata": {
    "scrolled": true
   },
   "outputs": [
    {
     "data": {
      "text/plain": [
       "count      33.000000\n",
       "mean     1892.942354\n",
       "std       539.720108\n",
       "min      1226.666667\n",
       "25%      1516.666667\n",
       "50%      1790.000000\n",
       "75%      2115.000000\n",
       "max      3980.000000\n",
       "Name: 100g당 가격, dtype: float64"
      ]
     },
     "execution_count": 9,
     "metadata": {},
     "output_type": "execute_result"
    }
   ],
   "source": [
    "bot=B.loc[67:100, '100g당 가격']\n",
    "bot.describe()"
   ]
  },
  {
   "cell_type": "markdown",
   "id": "bf97fe02",
   "metadata": {},
   "source": [
    "#### 가설 1번 (가공닭가슴살) 결론: \n",
    "가공닭가슴살 제품에서 100g당 가격과 판매순위의 유의미한 관계는 발견되지 않음.\n",
    "(평균, 분산 모두 큰 차이x) "
   ]
  },
  {
   "cell_type": "markdown",
   "id": "85ff5994",
   "metadata": {},
   "source": [
    "---"
   ]
  },
  {
   "cell_type": "code",
   "execution_count": 10,
   "id": "530791a8",
   "metadata": {
    "scrolled": false
   },
   "outputs": [],
   "source": [
    "A= pandas.read_excel(\"C:\\\\Users\\\\USER\\\\생닭가슴살 판매량 정리.xlsx\")"
   ]
  },
  {
   "cell_type": "code",
   "execution_count": 54,
   "id": "e3e6d84f",
   "metadata": {
    "scrolled": true
   },
   "outputs": [
    {
     "data": {
      "text/plain": [
       "<AxesSubplot:xlabel='그람수', ylabel='가격'>"
      ]
     },
     "execution_count": 54,
     "metadata": {},
     "output_type": "execute_result"
    },
    {
     "data": {
      "image/png": "[encoded data removed]",
      "text/plain": [
       "<Figure size 432x288 with 1 Axes>"
      ]
     },
     "metadata": {
      "needs_background": "light"
     },
     "output_type": "display_data"
    }
   ],
   "source": [
    "A.plot.scatter(x='그람수', y='가격')"
   ]
  },
  {
   "cell_type": "markdown",
   "id": "9cb2a816",
   "metadata": {},
   "source": [
    "두번째 excel파일인 생닭가슴살 데이터의 분포도를 시각화했을 때\n",
    "\n",
    "생닭가슴살 판매 제품의 경우 10키로까지의 판매가 많고 5키로 이하에 제품이 몰려있는 것을 확인함."
   ]
  },
  {
   "cell_type": "markdown",
   "id": "abddb5f1",
   "metadata": {},
   "source": [
    "***"
   ]
  },
  {
   "cell_type": "markdown",
   "id": "cedc62cc",
   "metadata": {},
   "source": [
    "#### 가설 1번(생닭가슴살 제품): 대체적으로 100g당 가격이 낮을 수록 생닭가슴살 판매순위가 높을 것이다."
   ]
  },
  {
   "cell_type": "code",
   "execution_count": 12,
   "id": "c6f93d1d",
   "metadata": {
    "scrolled": false
   },
   "outputs": [
    {
     "data": {
      "text/html": [
       "<div>\n",
       "<style scoped>\n",
       "    .dataframe tbody tr th:only-of-type {\n",
       "        vertical-align: middle;\n",
       "    }\n",
       "\n",
       "    .dataframe tbody tr th {\n",
       "        vertical-align: top;\n",
       "    }\n",
       "\n",
       "    .dataframe thead th {\n",
       "        text-align: right;\n",
       "    }\n",
       "</style>\n",
       "<table border=\"1\" class=\"dataframe\">\n",
       "  <thead>\n",
       "    <tr style=\"text-align: right;\">\n",
       "      <th></th>\n",
       "      <th>브랜드명</th>\n",
       "      <th>그람수</th>\n",
       "      <th>가격</th>\n",
       "      <th>판매순위</th>\n",
       "      <th>배송비</th>\n",
       "      <th>총 가격</th>\n",
       "      <th>100g당 가격</th>\n",
       "    </tr>\n",
       "  </thead>\n",
       "  <tbody>\n",
       "    <tr>\n",
       "      <th>0</th>\n",
       "      <td>하림</td>\n",
       "      <td>2000</td>\n",
       "      <td>17000</td>\n",
       "      <td>1</td>\n",
       "      <td>0</td>\n",
       "      <td>17000</td>\n",
       "      <td>850.000000</td>\n",
       "    </tr>\n",
       "    <tr>\n",
       "      <th>1</th>\n",
       "      <td>하림</td>\n",
       "      <td>800</td>\n",
       "      <td>10690</td>\n",
       "      <td>2</td>\n",
       "      <td>0</td>\n",
       "      <td>10690</td>\n",
       "      <td>1336.250000</td>\n",
       "    </tr>\n",
       "    <tr>\n",
       "      <th>2</th>\n",
       "      <td>하림</td>\n",
       "      <td>400</td>\n",
       "      <td>6110</td>\n",
       "      <td>3</td>\n",
       "      <td>0</td>\n",
       "      <td>6110</td>\n",
       "      <td>1527.500000</td>\n",
       "    </tr>\n",
       "    <tr>\n",
       "      <th>3</th>\n",
       "      <td>곰곰</td>\n",
       "      <td>1000</td>\n",
       "      <td>10590</td>\n",
       "      <td>4</td>\n",
       "      <td>0</td>\n",
       "      <td>10590</td>\n",
       "      <td>1059.000000</td>\n",
       "    </tr>\n",
       "    <tr>\n",
       "      <th>4</th>\n",
       "      <td>올품</td>\n",
       "      <td>2000</td>\n",
       "      <td>16660</td>\n",
       "      <td>5</td>\n",
       "      <td>0</td>\n",
       "      <td>16660</td>\n",
       "      <td>833.000000</td>\n",
       "    </tr>\n",
       "    <tr>\n",
       "      <th>...</th>\n",
       "      <td>...</td>\n",
       "      <td>...</td>\n",
       "      <td>...</td>\n",
       "      <td>...</td>\n",
       "      <td>...</td>\n",
       "      <td>...</td>\n",
       "      <td>...</td>\n",
       "    </tr>\n",
       "    <tr>\n",
       "      <th>70</th>\n",
       "      <td>지에스리테일</td>\n",
       "      <td>1200</td>\n",
       "      <td>18500</td>\n",
       "      <td>71</td>\n",
       "      <td>0</td>\n",
       "      <td>18500</td>\n",
       "      <td>1541.666667</td>\n",
       "    </tr>\n",
       "    <tr>\n",
       "      <th>71</th>\n",
       "      <td>언니네</td>\n",
       "      <td>10000</td>\n",
       "      <td>64900</td>\n",
       "      <td>72</td>\n",
       "      <td>3500</td>\n",
       "      <td>68400</td>\n",
       "      <td>684.000000</td>\n",
       "    </tr>\n",
       "    <tr>\n",
       "      <th>72</th>\n",
       "      <td>토탈닭컴</td>\n",
       "      <td>5000</td>\n",
       "      <td>31180</td>\n",
       "      <td>73</td>\n",
       "      <td>3000</td>\n",
       "      <td>34180</td>\n",
       "      <td>683.600000</td>\n",
       "    </tr>\n",
       "    <tr>\n",
       "      <th>73</th>\n",
       "      <td>토탈닭컴</td>\n",
       "      <td>10000</td>\n",
       "      <td>60060</td>\n",
       "      <td>74</td>\n",
       "      <td>3500</td>\n",
       "      <td>63560</td>\n",
       "      <td>635.600000</td>\n",
       "    </tr>\n",
       "    <tr>\n",
       "      <th>74</th>\n",
       "      <td>하나푸드</td>\n",
       "      <td>5000</td>\n",
       "      <td>34500</td>\n",
       "      <td>75</td>\n",
       "      <td>0</td>\n",
       "      <td>34500</td>\n",
       "      <td>690.000000</td>\n",
       "    </tr>\n",
       "  </tbody>\n",
       "</table>\n",
       "<p>75 rows × 7 columns</p>\n",
       "</div>"
      ],
      "text/plain": [
       "      브랜드명    그람수     가격  판매순위   배송비   총 가격     100g당 가격\n",
       "0       하림   2000  17000     1     0  17000   850.000000\n",
       "1       하림    800  10690     2     0  10690  1336.250000\n",
       "2       하림    400   6110     3     0   6110  1527.500000\n",
       "3       곰곰   1000  10590     4     0  10590  1059.000000\n",
       "4       올품   2000  16660     5     0  16660   833.000000\n",
       "..     ...    ...    ...   ...   ...    ...          ...\n",
       "70  지에스리테일   1200  18500    71     0  18500  1541.666667\n",
       "71     언니네  10000  64900    72  3500  68400   684.000000\n",
       "72    토탈닭컴   5000  31180    73  3000  34180   683.600000\n",
       "73    토탈닭컴  10000  60060    74  3500  63560   635.600000\n",
       "74    하나푸드   5000  34500    75     0  34500   690.000000\n",
       "\n",
       "[75 rows x 7 columns]"
      ]
     },
     "execution_count": 12,
     "metadata": {},
     "output_type": "execute_result"
    }
   ],
   "source": [
    "A['총 가격']=A['가격']+A['배송비']\n",
    "A['100g당 가격']=A['총 가격']/A['그람수']*100\n",
    "A"
   ]
  },
  {
   "cell_type": "code",
   "execution_count": 13,
   "id": "eed261ac",
   "metadata": {
    "scrolled": true
   },
   "outputs": [
    {
     "data": {
      "text/html": [
       "<div>\n",
       "<style scoped>\n",
       "    .dataframe tbody tr th:only-of-type {\n",
       "        vertical-align: middle;\n",
       "    }\n",
       "\n",
       "    .dataframe tbody tr th {\n",
       "        vertical-align: top;\n",
       "    }\n",
       "\n",
       "    .dataframe thead th {\n",
       "        text-align: right;\n",
       "    }\n",
       "</style>\n",
       "<table border=\"1\" class=\"dataframe\">\n",
       "  <thead>\n",
       "    <tr style=\"text-align: right;\">\n",
       "      <th></th>\n",
       "      <th>100g당 가격</th>\n",
       "    </tr>\n",
       "  </thead>\n",
       "  <tbody>\n",
       "    <tr>\n",
       "      <th>count</th>\n",
       "      <td>25.000000</td>\n",
       "    </tr>\n",
       "    <tr>\n",
       "      <th>mean</th>\n",
       "      <td>852.276667</td>\n",
       "    </tr>\n",
       "    <tr>\n",
       "      <th>std</th>\n",
       "      <td>227.797667</td>\n",
       "    </tr>\n",
       "    <tr>\n",
       "      <th>min</th>\n",
       "      <td>565.000000</td>\n",
       "    </tr>\n",
       "    <tr>\n",
       "      <th>25%</th>\n",
       "      <td>690.000000</td>\n",
       "    </tr>\n",
       "    <tr>\n",
       "      <th>50%</th>\n",
       "      <td>828.000000</td>\n",
       "    </tr>\n",
       "    <tr>\n",
       "      <th>75%</th>\n",
       "      <td>940.000000</td>\n",
       "    </tr>\n",
       "    <tr>\n",
       "      <th>max</th>\n",
       "      <td>1527.500000</td>\n",
       "    </tr>\n",
       "  </tbody>\n",
       "</table>\n",
       "</div>"
      ],
      "text/plain": [
       "          100g당 가격\n",
       "count    25.000000\n",
       "mean    852.276667\n",
       "std     227.797667\n",
       "min     565.000000\n",
       "25%     690.000000\n",
       "50%     828.000000\n",
       "75%     940.000000\n",
       "max    1527.500000"
      ]
     },
     "execution_count": 13,
     "metadata": {},
     "output_type": "execute_result"
    }
   ],
   "source": [
    "top2=A.loc[:24, ['100g당 가격']]\n",
    "top2.describe()"
   ]
  },
  {
   "cell_type": "code",
   "execution_count": 14,
   "id": "c8a2954f",
   "metadata": {
    "scrolled": true
   },
   "outputs": [
    {
     "data": {
      "text/html": [
       "<div>\n",
       "<style scoped>\n",
       "    .dataframe tbody tr th:only-of-type {\n",
       "        vertical-align: middle;\n",
       "    }\n",
       "\n",
       "    .dataframe tbody tr th {\n",
       "        vertical-align: top;\n",
       "    }\n",
       "\n",
       "    .dataframe thead th {\n",
       "        text-align: right;\n",
       "    }\n",
       "</style>\n",
       "<table border=\"1\" class=\"dataframe\">\n",
       "  <thead>\n",
       "    <tr style=\"text-align: right;\">\n",
       "      <th></th>\n",
       "      <th>100g당 가격</th>\n",
       "    </tr>\n",
       "  </thead>\n",
       "  <tbody>\n",
       "    <tr>\n",
       "      <th>count</th>\n",
       "      <td>25.000000</td>\n",
       "    </tr>\n",
       "    <tr>\n",
       "      <th>mean</th>\n",
       "      <td>967.868667</td>\n",
       "    </tr>\n",
       "    <tr>\n",
       "      <th>std</th>\n",
       "      <td>682.304718</td>\n",
       "    </tr>\n",
       "    <tr>\n",
       "      <th>min</th>\n",
       "      <td>605.000000</td>\n",
       "    </tr>\n",
       "    <tr>\n",
       "      <th>25%</th>\n",
       "      <td>710.000000</td>\n",
       "    </tr>\n",
       "    <tr>\n",
       "      <th>50%</th>\n",
       "      <td>795.000000</td>\n",
       "    </tr>\n",
       "    <tr>\n",
       "      <th>75%</th>\n",
       "      <td>940.000000</td>\n",
       "    </tr>\n",
       "    <tr>\n",
       "      <th>max</th>\n",
       "      <td>4083.333333</td>\n",
       "    </tr>\n",
       "  </tbody>\n",
       "</table>\n",
       "</div>"
      ],
      "text/plain": [
       "          100g당 가격\n",
       "count    25.000000\n",
       "mean    967.868667\n",
       "std     682.304718\n",
       "min     605.000000\n",
       "25%     710.000000\n",
       "50%     795.000000\n",
       "75%     940.000000\n",
       "max    4083.333333"
      ]
     },
     "execution_count": 14,
     "metadata": {},
     "output_type": "execute_result"
    }
   ],
   "source": [
    "mid2=A.loc[25:49, ['100g당 가격']]\n",
    "mid2.describe()"
   ]
  },
  {
   "cell_type": "code",
   "execution_count": 15,
   "id": "0cc63df4",
   "metadata": {
    "scrolled": false
   },
   "outputs": [
    {
     "data": {
      "text/plain": [
       "count      25.000000\n",
       "mean     1002.770667\n",
       "std       621.369401\n",
       "min        93.200000\n",
       "25%       683.600000\n",
       "50%       770.000000\n",
       "75%      1260.000000\n",
       "max      3416.666667\n",
       "Name: 100g당 가격, dtype: float64"
      ]
     },
     "execution_count": 15,
     "metadata": {},
     "output_type": "execute_result"
    }
   ],
   "source": [
    "bot2=A.loc[50:78, '100g당 가격']\n",
    "bot2.describe()"
   ]
  },
  {
   "cell_type": "markdown",
   "id": "0ef844f9",
   "metadata": {},
   "source": [
    "#### 가설 1번 (생닭가슴살) 결론: 생닭가슴살의 경우 100g당 가격이 낮을 수록 판매순위가 높다! (예측과 동일)\n",
    "\n",
    "상위그룹:852.27원 , 중간그룹: 967.87원 , 하위그룹: 1020.93원"
   ]
  },
  {
   "cell_type": "markdown",
   "id": "cdde99c2",
   "metadata": {},
   "source": [
    "***"
   ]
  },
  {
   "cell_type": "markdown",
   "id": "d4715510",
   "metadata": {},
   "source": [
    "#### 가설 2번:가공닭가슴살과 냉동 닭가슴살의 고가, 중가, 저가의 카테고리에서 같은 브랜드의 제품이 비슷한 판매순위를 가질 것 이다.\n",
    "\n"
   ]
  },
  {
   "cell_type": "code",
   "execution_count": 16,
   "id": "da13afe2",
   "metadata": {
    "scrolled": true
   },
   "outputs": [],
   "source": [
    "mod=B.loc[:32, ['판매순위', '브랜드']]\n",
    "mod\n",
    "mod1 = mod.reset_index()\n",
    "del mod1['index']\n"
   ]
  },
  {
   "cell_type": "code",
   "execution_count": 17,
   "id": "a9a42d5f",
   "metadata": {
    "scrolled": true
   },
   "outputs": [],
   "source": [
    "mod2=B.loc[33:66, ['판매순위','브랜드']]\n",
    "mod2\n",
    "mod22=mod2.reset_index()\n",
    "del mod22['index']\n"
   ]
  },
  {
   "cell_type": "code",
   "execution_count": 18,
   "id": "cb9e098d",
   "metadata": {
    "scrolled": true
   },
   "outputs": [],
   "source": [
    "mod3=B.loc[67:100, ['판매순위','브랜드']]\n",
    "mod3\n",
    "mod33=mod3.reset_index()\n",
    "del mod33['index']\n"
   ]
  },
  {
   "cell_type": "code",
   "execution_count": 19,
   "id": "1dc61a03",
   "metadata": {
    "scrolled": true
   },
   "outputs": [
    {
     "data": {
      "text/html": [
       "<div>\n",
       "<style scoped>\n",
       "    .dataframe tbody tr th:only-of-type {\n",
       "        vertical-align: middle;\n",
       "    }\n",
       "\n",
       "    .dataframe tbody tr th {\n",
       "        vertical-align: top;\n",
       "    }\n",
       "\n",
       "    .dataframe thead th {\n",
       "        text-align: right;\n",
       "    }\n",
       "</style>\n",
       "<table border=\"1\" class=\"dataframe\">\n",
       "  <thead>\n",
       "    <tr style=\"text-align: right;\">\n",
       "      <th></th>\n",
       "      <th>판매순위</th>\n",
       "      <th>브랜드</th>\n",
       "      <th>판매순위</th>\n",
       "      <th>브랜드</th>\n",
       "      <th>판매순위</th>\n",
       "      <th>브랜드</th>\n",
       "    </tr>\n",
       "  </thead>\n",
       "  <tbody>\n",
       "    <tr>\n",
       "      <th>0</th>\n",
       "      <td>1.0</td>\n",
       "      <td>하림</td>\n",
       "      <td>34</td>\n",
       "      <td>코스트코</td>\n",
       "      <td>68.0</td>\n",
       "      <td>한끼통살</td>\n",
       "    </tr>\n",
       "    <tr>\n",
       "      <th>1</th>\n",
       "      <td>2.0</td>\n",
       "      <td>한끼통살</td>\n",
       "      <td>35</td>\n",
       "      <td>육식토끼</td>\n",
       "      <td>69.0</td>\n",
       "      <td>맛있닭</td>\n",
       "    </tr>\n",
       "    <tr>\n",
       "      <th>2</th>\n",
       "      <td>3.0</td>\n",
       "      <td>햇살닭</td>\n",
       "      <td>36</td>\n",
       "      <td>햇살닭</td>\n",
       "      <td>70.0</td>\n",
       "      <td>킹닭</td>\n",
       "    </tr>\n",
       "    <tr>\n",
       "      <th>3</th>\n",
       "      <td>4.0</td>\n",
       "      <td>한끼통살</td>\n",
       "      <td>37</td>\n",
       "      <td>굽네</td>\n",
       "      <td>71.0</td>\n",
       "      <td>굽네</td>\n",
       "    </tr>\n",
       "    <tr>\n",
       "      <th>4</th>\n",
       "      <td>5.0</td>\n",
       "      <td>한끼통살</td>\n",
       "      <td>38</td>\n",
       "      <td>한끼통살</td>\n",
       "      <td>72.0</td>\n",
       "      <td>햇살닭</td>\n",
       "    </tr>\n",
       "    <tr>\n",
       "      <th>5</th>\n",
       "      <td>6.0</td>\n",
       "      <td>곰곰</td>\n",
       "      <td>39</td>\n",
       "      <td>곰곰</td>\n",
       "      <td>73.0</td>\n",
       "      <td>곰곰</td>\n",
       "    </tr>\n",
       "    <tr>\n",
       "      <th>6</th>\n",
       "      <td>7.0</td>\n",
       "      <td>한끼통살</td>\n",
       "      <td>40</td>\n",
       "      <td>그릭슈바인</td>\n",
       "      <td>74.0</td>\n",
       "      <td>하림</td>\n",
       "    </tr>\n",
       "    <tr>\n",
       "      <th>7</th>\n",
       "      <td>8.0</td>\n",
       "      <td>맛있닭</td>\n",
       "      <td>41</td>\n",
       "      <td>한끼</td>\n",
       "      <td>75.0</td>\n",
       "      <td>브랜드닭</td>\n",
       "    </tr>\n",
       "    <tr>\n",
       "      <th>8</th>\n",
       "      <td>9.0</td>\n",
       "      <td>하림</td>\n",
       "      <td>42</td>\n",
       "      <td>하림</td>\n",
       "      <td>76.0</td>\n",
       "      <td>잇메이트</td>\n",
       "    </tr>\n",
       "    <tr>\n",
       "      <th>9</th>\n",
       "      <td>10.0</td>\n",
       "      <td>굽네</td>\n",
       "      <td>43</td>\n",
       "      <td>한끼통살</td>\n",
       "      <td>77.0</td>\n",
       "      <td>곰곰</td>\n",
       "    </tr>\n",
       "    <tr>\n",
       "      <th>10</th>\n",
       "      <td>11.0</td>\n",
       "      <td>브랜드닭</td>\n",
       "      <td>44</td>\n",
       "      <td>곰곰</td>\n",
       "      <td>78.0</td>\n",
       "      <td>조아닭</td>\n",
       "    </tr>\n",
       "    <tr>\n",
       "      <th>11</th>\n",
       "      <td>12.0</td>\n",
       "      <td>한끼통살</td>\n",
       "      <td>45</td>\n",
       "      <td>허닭</td>\n",
       "      <td>79.0</td>\n",
       "      <td>미트리</td>\n",
       "    </tr>\n",
       "    <tr>\n",
       "      <th>12</th>\n",
       "      <td>13.0</td>\n",
       "      <td>하림</td>\n",
       "      <td>46</td>\n",
       "      <td>수지스</td>\n",
       "      <td>80.0</td>\n",
       "      <td>브랜드닭</td>\n",
       "    </tr>\n",
       "    <tr>\n",
       "      <th>13</th>\n",
       "      <td>14.0</td>\n",
       "      <td>하림</td>\n",
       "      <td>47</td>\n",
       "      <td>미트리</td>\n",
       "      <td>81.0</td>\n",
       "      <td>코스트코</td>\n",
       "    </tr>\n",
       "    <tr>\n",
       "      <th>14</th>\n",
       "      <td>15.0</td>\n",
       "      <td>하림</td>\n",
       "      <td>48</td>\n",
       "      <td>굽네</td>\n",
       "      <td>82.0</td>\n",
       "      <td>햇살닭</td>\n",
       "    </tr>\n",
       "    <tr>\n",
       "      <th>15</th>\n",
       "      <td>16.0</td>\n",
       "      <td>한끼통살</td>\n",
       "      <td>49</td>\n",
       "      <td>한끼통살</td>\n",
       "      <td>83.0</td>\n",
       "      <td>바로드숑</td>\n",
       "    </tr>\n",
       "    <tr>\n",
       "      <th>16</th>\n",
       "      <td>17.0</td>\n",
       "      <td>육식토끼</td>\n",
       "      <td>50</td>\n",
       "      <td>미트리</td>\n",
       "      <td>84.0</td>\n",
       "      <td>오쿡</td>\n",
       "    </tr>\n",
       "    <tr>\n",
       "      <th>17</th>\n",
       "      <td>18.0</td>\n",
       "      <td>한끼통살</td>\n",
       "      <td>51</td>\n",
       "      <td>한끼통살</td>\n",
       "      <td>85.0</td>\n",
       "      <td>브랜드닭</td>\n",
       "    </tr>\n",
       "    <tr>\n",
       "      <th>18</th>\n",
       "      <td>19.0</td>\n",
       "      <td>잇메이트</td>\n",
       "      <td>52</td>\n",
       "      <td>곰곰</td>\n",
       "      <td>86.0</td>\n",
       "      <td>허닭</td>\n",
       "    </tr>\n",
       "    <tr>\n",
       "      <th>19</th>\n",
       "      <td>20.0</td>\n",
       "      <td>수지스</td>\n",
       "      <td>53</td>\n",
       "      <td>바로드숑</td>\n",
       "      <td>87.0</td>\n",
       "      <td>허닭</td>\n",
       "    </tr>\n",
       "    <tr>\n",
       "      <th>20</th>\n",
       "      <td>21.0</td>\n",
       "      <td>바로드숑</td>\n",
       "      <td>54</td>\n",
       "      <td>햇살닭</td>\n",
       "      <td>88.0</td>\n",
       "      <td>햇살닭</td>\n",
       "    </tr>\n",
       "    <tr>\n",
       "      <th>21</th>\n",
       "      <td>22.0</td>\n",
       "      <td>다향오리</td>\n",
       "      <td>55</td>\n",
       "      <td>곰곰</td>\n",
       "      <td>89.0</td>\n",
       "      <td>우아한끼</td>\n",
       "    </tr>\n",
       "    <tr>\n",
       "      <th>22</th>\n",
       "      <td>23.0</td>\n",
       "      <td>조아닭</td>\n",
       "      <td>56</td>\n",
       "      <td>하림</td>\n",
       "      <td>90.0</td>\n",
       "      <td>바로드숑</td>\n",
       "    </tr>\n",
       "    <tr>\n",
       "      <th>23</th>\n",
       "      <td>24.0</td>\n",
       "      <td>곰곰</td>\n",
       "      <td>57</td>\n",
       "      <td>바로드숑</td>\n",
       "      <td>91.0</td>\n",
       "      <td>네네치킨</td>\n",
       "    </tr>\n",
       "    <tr>\n",
       "      <th>24</th>\n",
       "      <td>25.0</td>\n",
       "      <td>한끼통살</td>\n",
       "      <td>58</td>\n",
       "      <td>잇메이트</td>\n",
       "      <td>92.0</td>\n",
       "      <td>맛있닭</td>\n",
       "    </tr>\n",
       "    <tr>\n",
       "      <th>25</th>\n",
       "      <td>26.0</td>\n",
       "      <td>브랜드닭</td>\n",
       "      <td>59</td>\n",
       "      <td>오쿡</td>\n",
       "      <td>93.0</td>\n",
       "      <td>아임닭</td>\n",
       "    </tr>\n",
       "    <tr>\n",
       "      <th>26</th>\n",
       "      <td>27.0</td>\n",
       "      <td>하림</td>\n",
       "      <td>60</td>\n",
       "      <td>하림</td>\n",
       "      <td>94.0</td>\n",
       "      <td>잇츠나우</td>\n",
       "    </tr>\n",
       "    <tr>\n",
       "      <th>27</th>\n",
       "      <td>28.0</td>\n",
       "      <td>코코푸트</td>\n",
       "      <td>61</td>\n",
       "      <td>오쿡</td>\n",
       "      <td>95.0</td>\n",
       "      <td>굳닭</td>\n",
       "    </tr>\n",
       "    <tr>\n",
       "      <th>28</th>\n",
       "      <td>29.0</td>\n",
       "      <td>굽네오븐구이통닭가슴살</td>\n",
       "      <td>62</td>\n",
       "      <td>러브잇</td>\n",
       "      <td>96.0</td>\n",
       "      <td>채우닭실온</td>\n",
       "    </tr>\n",
       "    <tr>\n",
       "      <th>29</th>\n",
       "      <td>30.0</td>\n",
       "      <td>곰곰</td>\n",
       "      <td>63</td>\n",
       "      <td>CJ제일제당</td>\n",
       "      <td>97.0</td>\n",
       "      <td>이츠웰</td>\n",
       "    </tr>\n",
       "    <tr>\n",
       "      <th>30</th>\n",
       "      <td>31.0</td>\n",
       "      <td>허닭</td>\n",
       "      <td>64</td>\n",
       "      <td>곰곰</td>\n",
       "      <td>98.0</td>\n",
       "      <td>교촌프레시업슬라이스</td>\n",
       "    </tr>\n",
       "    <tr>\n",
       "      <th>31</th>\n",
       "      <td>32.0</td>\n",
       "      <td>잇메이트</td>\n",
       "      <td>65</td>\n",
       "      <td>사조대림</td>\n",
       "      <td>99.0</td>\n",
       "      <td>곰곰</td>\n",
       "    </tr>\n",
       "    <tr>\n",
       "      <th>32</th>\n",
       "      <td>33.0</td>\n",
       "      <td>곰곰</td>\n",
       "      <td>66</td>\n",
       "      <td>육식토끼</td>\n",
       "      <td>100.0</td>\n",
       "      <td>오빠닭</td>\n",
       "    </tr>\n",
       "    <tr>\n",
       "      <th>33</th>\n",
       "      <td>NaN</td>\n",
       "      <td>NaN</td>\n",
       "      <td>67</td>\n",
       "      <td>바디나인</td>\n",
       "      <td>NaN</td>\n",
       "      <td>NaN</td>\n",
       "    </tr>\n",
       "  </tbody>\n",
       "</table>\n",
       "</div>"
      ],
      "text/plain": [
       "    판매순위          브랜드  판매순위     브랜드   판매순위         브랜드\n",
       "0    1.0           하림    34    코스트코   68.0        한끼통살\n",
       "1    2.0         한끼통살    35    육식토끼   69.0         맛있닭\n",
       "2    3.0          햇살닭    36     햇살닭   70.0          킹닭\n",
       "3    4.0         한끼통살    37      굽네   71.0          굽네\n",
       "4    5.0         한끼통살    38    한끼통살   72.0         햇살닭\n",
       "5    6.0           곰곰    39      곰곰   73.0          곰곰\n",
       "6    7.0         한끼통살    40   그릭슈바인   74.0          하림\n",
       "7    8.0          맛있닭    41      한끼   75.0        브랜드닭\n",
       "8    9.0           하림    42      하림   76.0        잇메이트\n",
       "9   10.0           굽네    43    한끼통살   77.0          곰곰\n",
       "10  11.0         브랜드닭    44      곰곰   78.0         조아닭\n",
       "11  12.0         한끼통살    45      허닭   79.0         미트리\n",
       "12  13.0           하림    46     수지스   80.0        브랜드닭\n",
       "13  14.0           하림    47     미트리   81.0        코스트코\n",
       "14  15.0           하림    48      굽네   82.0         햇살닭\n",
       "15  16.0         한끼통살    49    한끼통살   83.0        바로드숑\n",
       "16  17.0         육식토끼    50     미트리   84.0          오쿡\n",
       "17  18.0         한끼통살    51    한끼통살   85.0        브랜드닭\n",
       "18  19.0         잇메이트    52      곰곰   86.0          허닭\n",
       "19  20.0          수지스    53    바로드숑   87.0          허닭\n",
       "20  21.0         바로드숑    54     햇살닭   88.0         햇살닭\n",
       "21  22.0         다향오리    55      곰곰   89.0        우아한끼\n",
       "22  23.0          조아닭    56      하림   90.0        바로드숑\n",
       "23  24.0           곰곰    57    바로드숑   91.0        네네치킨\n",
       "24  25.0         한끼통살    58    잇메이트   92.0         맛있닭\n",
       "25  26.0         브랜드닭    59      오쿡   93.0         아임닭\n",
       "26  27.0           하림    60      하림   94.0        잇츠나우\n",
       "27  28.0         코코푸트    61      오쿡   95.0          굳닭\n",
       "28  29.0  굽네오븐구이통닭가슴살    62     러브잇   96.0       채우닭실온\n",
       "29  30.0           곰곰    63  CJ제일제당   97.0         이츠웰\n",
       "30  31.0           허닭    64      곰곰   98.0  교촌프레시업슬라이스\n",
       "31  32.0         잇메이트    65    사조대림   99.0          곰곰\n",
       "32  33.0           곰곰    66    육식토끼  100.0         오빠닭\n",
       "33   NaN          NaN    67    바디나인    NaN         NaN"
      ]
     },
     "execution_count": 19,
     "metadata": {},
     "output_type": "execute_result"
    }
   ],
   "source": [
    "moda=pandas.concat([mod1, mod22,mod33],axis=1)\n",
    "moda"
   ]
  },
  {
   "cell_type": "code",
   "execution_count": 20,
   "id": "0765aaa1",
   "metadata": {},
   "outputs": [],
   "source": [
    "f1=mod1.value_counts('브랜드')"
   ]
  },
  {
   "cell_type": "code",
   "execution_count": 21,
   "id": "ebb32b8f",
   "metadata": {},
   "outputs": [],
   "source": [
    "f2=mod22.value_counts('브랜드')"
   ]
  },
  {
   "cell_type": "code",
   "execution_count": 22,
   "id": "0f81a6ec",
   "metadata": {},
   "outputs": [],
   "source": [
    "f3=mod33.value_counts('브랜드')"
   ]
  },
  {
   "cell_type": "code",
   "execution_count": 23,
   "id": "9fd55af5",
   "metadata": {
    "scrolled": false
   },
   "outputs": [
    {
     "data": {
      "text/html": [
       "<div>\n",
       "<style scoped>\n",
       "    .dataframe tbody tr th:only-of-type {\n",
       "        vertical-align: middle;\n",
       "    }\n",
       "\n",
       "    .dataframe tbody tr th {\n",
       "        vertical-align: top;\n",
       "    }\n",
       "\n",
       "    .dataframe thead th {\n",
       "        text-align: right;\n",
       "    }\n",
       "</style>\n",
       "<table border=\"1\" class=\"dataframe\">\n",
       "  <thead>\n",
       "    <tr style=\"text-align: right;\">\n",
       "      <th></th>\n",
       "      <th>0</th>\n",
       "      <th>1</th>\n",
       "      <th>2</th>\n",
       "    </tr>\n",
       "    <tr>\n",
       "      <th>브랜드</th>\n",
       "      <th></th>\n",
       "      <th></th>\n",
       "      <th></th>\n",
       "    </tr>\n",
       "  </thead>\n",
       "  <tbody>\n",
       "    <tr>\n",
       "      <th>한끼통살</th>\n",
       "      <td>8.0</td>\n",
       "      <td>4.0</td>\n",
       "      <td>NaN</td>\n",
       "    </tr>\n",
       "    <tr>\n",
       "      <th>하림</th>\n",
       "      <td>6.0</td>\n",
       "      <td>3.0</td>\n",
       "      <td>NaN</td>\n",
       "    </tr>\n",
       "    <tr>\n",
       "      <th>곰곰</th>\n",
       "      <td>4.0</td>\n",
       "      <td>5.0</td>\n",
       "      <td>3.0</td>\n",
       "    </tr>\n",
       "    <tr>\n",
       "      <th>햇살닭</th>\n",
       "      <td>NaN</td>\n",
       "      <td>NaN</td>\n",
       "      <td>3.0</td>\n",
       "    </tr>\n",
       "    <tr>\n",
       "      <th>브랜드닭</th>\n",
       "      <td>NaN</td>\n",
       "      <td>NaN</td>\n",
       "      <td>3.0</td>\n",
       "    </tr>\n",
       "  </tbody>\n",
       "</table>\n",
       "</div>"
      ],
      "text/plain": [
       "        0    1    2\n",
       "브랜드                \n",
       "한끼통살  8.0  4.0  NaN\n",
       "하림    6.0  3.0  NaN\n",
       "곰곰    4.0  5.0  3.0\n",
       "햇살닭   NaN  NaN  3.0\n",
       "브랜드닭  NaN  NaN  3.0"
      ]
     },
     "execution_count": 23,
     "metadata": {},
     "output_type": "execute_result"
    }
   ],
   "source": [
    "F1=f1.head(3)\n",
    "F2=f2.head(3)\n",
    "F3=f3.head(3)\n",
    "FA=pandas.concat([F1, F2,F3],axis=1)\n",
    "\n",
    "FA"
   ]
  },
  {
   "cell_type": "markdown",
   "id": "1492eab4",
   "metadata": {},
   "source": [
    "가공닭가슴살의 각 카테고리별 빈도수계산"
   ]
  },
  {
   "cell_type": "code",
   "execution_count": 24,
   "id": "c7dbd895",
   "metadata": {
    "scrolled": true
   },
   "outputs": [],
   "source": [
    "p=A.loc[:24, ['판매순위', '브랜드명']]\n",
    "p1 = p.reset_index()\n",
    "del p1['index']"
   ]
  },
  {
   "cell_type": "code",
   "execution_count": 25,
   "id": "6e878ffe",
   "metadata": {
    "scrolled": true
   },
   "outputs": [],
   "source": [
    "p_2=A.loc[25:49, ['판매순위', '브랜드명']]\n",
    "p2 = p_2.reset_index()\n",
    "del p2['index']\n"
   ]
  },
  {
   "cell_type": "code",
   "execution_count": 26,
   "id": "af9466dc",
   "metadata": {},
   "outputs": [],
   "source": [
    "p_3=A.loc[50:77, ['판매순위', '브랜드명']]\n",
    "p3 = p_3.reset_index()\n",
    "del p3['index']"
   ]
  },
  {
   "cell_type": "code",
   "execution_count": 27,
   "id": "33f7f156",
   "metadata": {},
   "outputs": [],
   "source": [
    "f_1=p1.value_counts('브랜드명')"
   ]
  },
  {
   "cell_type": "code",
   "execution_count": 28,
   "id": "6684aef8",
   "metadata": {},
   "outputs": [],
   "source": [
    "f_2=p2.value_counts('브랜드명')"
   ]
  },
  {
   "cell_type": "code",
   "execution_count": 29,
   "id": "9dcbcaee",
   "metadata": {},
   "outputs": [],
   "source": [
    "f_3=p3.value_counts('브랜드명')"
   ]
  },
  {
   "cell_type": "code",
   "execution_count": 30,
   "id": "e1ef3a4d",
   "metadata": {
    "scrolled": true
   },
   "outputs": [
    {
     "data": {
      "text/html": [
       "<div>\n",
       "<style scoped>\n",
       "    .dataframe tbody tr th:only-of-type {\n",
       "        vertical-align: middle;\n",
       "    }\n",
       "\n",
       "    .dataframe tbody tr th {\n",
       "        vertical-align: top;\n",
       "    }\n",
       "\n",
       "    .dataframe thead th {\n",
       "        text-align: right;\n",
       "    }\n",
       "</style>\n",
       "<table border=\"1\" class=\"dataframe\">\n",
       "  <thead>\n",
       "    <tr style=\"text-align: right;\">\n",
       "      <th></th>\n",
       "      <th>0</th>\n",
       "      <th>1</th>\n",
       "      <th>2</th>\n",
       "    </tr>\n",
       "    <tr>\n",
       "      <th>브랜드명</th>\n",
       "      <th></th>\n",
       "      <th></th>\n",
       "      <th></th>\n",
       "    </tr>\n",
       "  </thead>\n",
       "  <tbody>\n",
       "    <tr>\n",
       "      <th>올품</th>\n",
       "      <td>5.0</td>\n",
       "      <td>2.0</td>\n",
       "      <td>NaN</td>\n",
       "    </tr>\n",
       "    <tr>\n",
       "      <th>하림</th>\n",
       "      <td>5.0</td>\n",
       "      <td>3.0</td>\n",
       "      <td>NaN</td>\n",
       "    </tr>\n",
       "    <tr>\n",
       "      <th>목우촌</th>\n",
       "      <td>3.0</td>\n",
       "      <td>NaN</td>\n",
       "      <td>NaN</td>\n",
       "    </tr>\n",
       "    <tr>\n",
       "      <th>모디바</th>\n",
       "      <td>NaN</td>\n",
       "      <td>2.0</td>\n",
       "      <td>NaN</td>\n",
       "    </tr>\n",
       "    <tr>\n",
       "      <th>토탈닭컴</th>\n",
       "      <td>NaN</td>\n",
       "      <td>NaN</td>\n",
       "      <td>4.0</td>\n",
       "    </tr>\n",
       "    <tr>\n",
       "      <th>하나푸드</th>\n",
       "      <td>NaN</td>\n",
       "      <td>NaN</td>\n",
       "      <td>3.0</td>\n",
       "    </tr>\n",
       "    <tr>\n",
       "      <th>그린푸드</th>\n",
       "      <td>NaN</td>\n",
       "      <td>NaN</td>\n",
       "      <td>2.0</td>\n",
       "    </tr>\n",
       "  </tbody>\n",
       "</table>\n",
       "</div>"
      ],
      "text/plain": [
       "        0    1    2\n",
       "브랜드명               \n",
       "올품    5.0  2.0  NaN\n",
       "하림    5.0  3.0  NaN\n",
       "목우촌   3.0  NaN  NaN\n",
       "모디바   NaN  2.0  NaN\n",
       "토탈닭컴  NaN  NaN  4.0\n",
       "하나푸드  NaN  NaN  3.0\n",
       "그린푸드  NaN  NaN  2.0"
      ]
     },
     "execution_count": 30,
     "metadata": {},
     "output_type": "execute_result"
    }
   ],
   "source": [
    "P1=f_1.head(3)\n",
    "P2=f_2.head(3)\n",
    "P3=f_3.head(3)\n",
    "PA=pandas.concat([P1, P2,P3],axis=1)\n",
    "\n",
    "PA\n",
    "#생닭가슴살 카테고리별 빈도수"
   ]
  },
  {
   "cell_type": "code",
   "execution_count": 31,
   "id": "ba04a65d",
   "metadata": {
    "scrolled": true
   },
   "outputs": [
    {
     "data": {
      "text/html": [
       "<div>\n",
       "<style scoped>\n",
       "    .dataframe tbody tr th:only-of-type {\n",
       "        vertical-align: middle;\n",
       "    }\n",
       "\n",
       "    .dataframe tbody tr th {\n",
       "        vertical-align: top;\n",
       "    }\n",
       "\n",
       "    .dataframe thead th {\n",
       "        text-align: right;\n",
       "    }\n",
       "</style>\n",
       "<table border=\"1\" class=\"dataframe\">\n",
       "  <thead>\n",
       "    <tr style=\"text-align: right;\">\n",
       "      <th></th>\n",
       "      <th>0</th>\n",
       "      <th>1</th>\n",
       "      <th>2</th>\n",
       "    </tr>\n",
       "    <tr>\n",
       "      <th>브랜드</th>\n",
       "      <th></th>\n",
       "      <th></th>\n",
       "      <th></th>\n",
       "    </tr>\n",
       "  </thead>\n",
       "  <tbody>\n",
       "    <tr>\n",
       "      <th>한끼통살</th>\n",
       "      <td>8.0</td>\n",
       "      <td>4.0</td>\n",
       "      <td>NaN</td>\n",
       "    </tr>\n",
       "    <tr>\n",
       "      <th>하림</th>\n",
       "      <td>6.0</td>\n",
       "      <td>3.0</td>\n",
       "      <td>NaN</td>\n",
       "    </tr>\n",
       "    <tr>\n",
       "      <th>곰곰</th>\n",
       "      <td>4.0</td>\n",
       "      <td>5.0</td>\n",
       "      <td>3.0</td>\n",
       "    </tr>\n",
       "    <tr>\n",
       "      <th>햇살닭</th>\n",
       "      <td>NaN</td>\n",
       "      <td>NaN</td>\n",
       "      <td>3.0</td>\n",
       "    </tr>\n",
       "    <tr>\n",
       "      <th>브랜드닭</th>\n",
       "      <td>NaN</td>\n",
       "      <td>NaN</td>\n",
       "      <td>3.0</td>\n",
       "    </tr>\n",
       "  </tbody>\n",
       "</table>\n",
       "</div>"
      ],
      "text/plain": [
       "        0    1    2\n",
       "브랜드                \n",
       "한끼통살  8.0  4.0  NaN\n",
       "하림    6.0  3.0  NaN\n",
       "곰곰    4.0  5.0  3.0\n",
       "햇살닭   NaN  NaN  3.0\n",
       "브랜드닭  NaN  NaN  3.0"
      ]
     },
     "execution_count": 31,
     "metadata": {},
     "output_type": "execute_result"
    }
   ],
   "source": [
    "FA\n",
    "#가공닭가슴살 카테고리별 빈도수"
   ]
  },
  {
   "cell_type": "markdown",
   "id": "d147a386",
   "metadata": {},
   "source": [
    "#### 가설 2번 결론:\n",
    "    생닭가슴살의 고가제품군에서는 올품, 하림, 목우촌\n",
    "    중가에서도 올품, 하림, 목우촌\n",
    "    저가에서는 토탈닭컴, 하나푸드, 아임닭의 판매순위가 높았음\n",
    "    \n",
    "    가공닭가슴살의 고가제품군에서는 한끼통살, 하림, 곰곰\n",
    "    중가에서도 한끼통살, 하림, 곰곰\n",
    "    저가에서는 곰곰, 햇살닭, 브랜드닭 순서로 판매순위가 높았음\n",
    "    \n",
    "    1.생닭가슴살과 가공닭가슴살의 브랜드는 하림 제외 모두 달랐음-> 시장자체가 다른것으로 보임\n",
    "    2.생닭가슴살과 가공닭가슴살 모두 고가와 중가에서 같은 브랜드들이 높은 점유율을 보이고 저가에서 새로운 브랜드들이 경쟁하는 것으로 보임\n"
   ]
  },
  {
   "cell_type": "markdown",
   "id": "7f6ac242",
   "metadata": {},
   "source": [
    "***"
   ]
  },
  {
   "cell_type": "markdown",
   "id": "b15c5dda",
   "metadata": {},
   "source": [
    "#### 가설 3번: 배송비용이 있는 제품과 없는 제품을 나누어서 분석하면 100g당 가격의 평균은 같을 것이다.\n"
   ]
  },
  {
   "cell_type": "code",
   "execution_count": 32,
   "id": "5750fb25",
   "metadata": {},
   "outputs": [],
   "source": [
    "d=A[['배송비', '100g당 가격']]\n",
    "c=d.loc[d['배송비']==0]"
   ]
  },
  {
   "cell_type": "code",
   "execution_count": 33,
   "id": "18b333de",
   "metadata": {},
   "outputs": [
    {
     "data": {
      "text/plain": [
       "배송비           0.000000\n",
       "100g당 가격    857.747154\n",
       "dtype: float64"
      ]
     },
     "execution_count": 33,
     "metadata": {},
     "output_type": "execute_result"
    }
   ],
   "source": [
    "c.mean()"
   ]
  },
  {
   "cell_type": "code",
   "execution_count": 34,
   "id": "a06cb099",
   "metadata": {},
   "outputs": [],
   "source": [
    "u=A[['배송비', '100g당 가격']]\n",
    "v=d.loc[d['배송비']> 0]"
   ]
  },
  {
   "cell_type": "code",
   "execution_count": 35,
   "id": "324e8e6b",
   "metadata": {
    "scrolled": false
   },
   "outputs": [
    {
     "data": {
      "text/plain": [
       "배송비         3441.176471\n",
       "100g당 가격    1041.331373\n",
       "dtype: float64"
      ]
     },
     "execution_count": 35,
     "metadata": {},
     "output_type": "execute_result"
    }
   ],
   "source": [
    "v.mean()"
   ]
  },
  {
   "cell_type": "markdown",
   "id": "18d3ef46",
   "metadata": {},
   "source": [
    "#### 가설 3번 결론: 배송비가 따로 부과되는 경우가 무료배송인 경우보다 평균적으로 더 비싸다.\n",
    "\n",
    "무료배송 : 872.44원, 배송비있는 경우 : 1041.33원"
   ]
  },
  {
   "cell_type": "markdown",
   "id": "d257ba4b",
   "metadata": {},
   "source": [
    "***"
   ]
  },
  {
   "cell_type": "markdown",
   "id": "1ef8331e",
   "metadata": {},
   "source": [
    "#### 가설4번(가공 닭가슴살): 제품무게가 무거울수록 g당 가격이 저렴할 것이다.\n"
   ]
  },
  {
   "cell_type": "code",
   "execution_count": 36,
   "id": "9253519e",
   "metadata": {},
   "outputs": [],
   "source": [
    "s1=B.sort_values(by=[B.columns[1]], ascending=True)"
   ]
  },
  {
   "cell_type": "code",
   "execution_count": 37,
   "id": "0dd6a886",
   "metadata": {
    "scrolled": true
   },
   "outputs": [
    {
     "data": {
      "text/html": [
       "<div>\n",
       "<style scoped>\n",
       "    .dataframe tbody tr th:only-of-type {\n",
       "        vertical-align: middle;\n",
       "    }\n",
       "\n",
       "    .dataframe tbody tr th {\n",
       "        vertical-align: top;\n",
       "    }\n",
       "\n",
       "    .dataframe thead th {\n",
       "        text-align: right;\n",
       "    }\n",
       "</style>\n",
       "<table border=\"1\" class=\"dataframe\">\n",
       "  <thead>\n",
       "    <tr style=\"text-align: right;\">\n",
       "      <th></th>\n",
       "      <th>index</th>\n",
       "      <th>그람수</th>\n",
       "      <th>100g당 가격</th>\n",
       "    </tr>\n",
       "  </thead>\n",
       "  <tbody>\n",
       "    <tr>\n",
       "      <th>0</th>\n",
       "      <td>88</td>\n",
       "      <td>500</td>\n",
       "      <td>3980.000000</td>\n",
       "    </tr>\n",
       "    <tr>\n",
       "      <th>1</th>\n",
       "      <td>45</td>\n",
       "      <td>550</td>\n",
       "      <td>2254.545455</td>\n",
       "    </tr>\n",
       "    <tr>\n",
       "      <th>2</th>\n",
       "      <td>19</td>\n",
       "      <td>550</td>\n",
       "      <td>2254.545455</td>\n",
       "    </tr>\n",
       "    <tr>\n",
       "      <th>3</th>\n",
       "      <td>98</td>\n",
       "      <td>550</td>\n",
       "      <td>1634.545455</td>\n",
       "    </tr>\n",
       "    <tr>\n",
       "      <th>4</th>\n",
       "      <td>43</td>\n",
       "      <td>550</td>\n",
       "      <td>1634.545455</td>\n",
       "    </tr>\n",
       "    <tr>\n",
       "      <th>...</th>\n",
       "      <td>...</td>\n",
       "      <td>...</td>\n",
       "      <td>...</td>\n",
       "    </tr>\n",
       "    <tr>\n",
       "      <th>95</th>\n",
       "      <td>90</td>\n",
       "      <td>3500</td>\n",
       "      <td>1571.428571</td>\n",
       "    </tr>\n",
       "    <tr>\n",
       "      <th>96</th>\n",
       "      <td>60</td>\n",
       "      <td>4000</td>\n",
       "      <td>1133.500000</td>\n",
       "    </tr>\n",
       "    <tr>\n",
       "      <th>97</th>\n",
       "      <td>46</td>\n",
       "      <td>4800</td>\n",
       "      <td>1479.375000</td>\n",
       "    </tr>\n",
       "    <tr>\n",
       "      <th>98</th>\n",
       "      <td>83</td>\n",
       "      <td>5000</td>\n",
       "      <td>1413.000000</td>\n",
       "    </tr>\n",
       "    <tr>\n",
       "      <th>99</th>\n",
       "      <td>65</td>\n",
       "      <td>5000</td>\n",
       "      <td>1230.000000</td>\n",
       "    </tr>\n",
       "  </tbody>\n",
       "</table>\n",
       "<p>100 rows × 3 columns</p>\n",
       "</div>"
      ],
      "text/plain": [
       "    index   그람수     100g당 가격\n",
       "0      88   500  3980.000000\n",
       "1      45   550  2254.545455\n",
       "2      19   550  2254.545455\n",
       "3      98   550  1634.545455\n",
       "4      43   550  1634.545455\n",
       "..    ...   ...          ...\n",
       "95     90  3500  1571.428571\n",
       "96     60  4000  1133.500000\n",
       "97     46  4800  1479.375000\n",
       "98     83  5000  1413.000000\n",
       "99     65  5000  1230.000000\n",
       "\n",
       "[100 rows x 3 columns]"
      ]
     },
     "execution_count": 37,
     "metadata": {},
     "output_type": "execute_result"
    }
   ],
   "source": [
    "s1_1=s1[['그람수', '100g당 가격']]\n",
    "s1_2=s1_1.reset_index()\n",
    "s1_2"
   ]
  },
  {
   "cell_type": "markdown",
   "id": "13802274",
   "metadata": {},
   "source": [
    "낮은 무게 그룹"
   ]
  },
  {
   "cell_type": "code",
   "execution_count": 38,
   "id": "a0c5085f",
   "metadata": {},
   "outputs": [
    {
     "name": "stdout",
     "output_type": "stream",
     "text": [
      "제품 무게 평균: 0.7915151515151515 kg\n"
     ]
    }
   ],
   "source": [
    "s_low_m=s1_2.loc[:32, '그람수']\n",
    "print(\"제품 무게 평균:\", s_low_m.mean()/1000,\"kg\")"
   ]
  },
  {
   "cell_type": "code",
   "execution_count": 39,
   "id": "3e8b3564",
   "metadata": {
    "scrolled": false
   },
   "outputs": [
    {
     "data": {
      "text/html": [
       "<div>\n",
       "<style scoped>\n",
       "    .dataframe tbody tr th:only-of-type {\n",
       "        vertical-align: middle;\n",
       "    }\n",
       "\n",
       "    .dataframe tbody tr th {\n",
       "        vertical-align: top;\n",
       "    }\n",
       "\n",
       "    .dataframe thead th {\n",
       "        text-align: right;\n",
       "    }\n",
       "</style>\n",
       "<table border=\"1\" class=\"dataframe\">\n",
       "  <thead>\n",
       "    <tr style=\"text-align: right;\">\n",
       "      <th></th>\n",
       "      <th>100g당 가격</th>\n",
       "    </tr>\n",
       "  </thead>\n",
       "  <tbody>\n",
       "    <tr>\n",
       "      <th>count</th>\n",
       "      <td>33.000000</td>\n",
       "    </tr>\n",
       "    <tr>\n",
       "      <th>mean</th>\n",
       "      <td>2042.997998</td>\n",
       "    </tr>\n",
       "    <tr>\n",
       "      <th>std</th>\n",
       "      <td>478.153080</td>\n",
       "    </tr>\n",
       "    <tr>\n",
       "      <th>min</th>\n",
       "      <td>1387.500000</td>\n",
       "    </tr>\n",
       "    <tr>\n",
       "      <th>25%</th>\n",
       "      <td>1703.000000</td>\n",
       "    </tr>\n",
       "    <tr>\n",
       "      <th>50%</th>\n",
       "      <td>1975.000000</td>\n",
       "    </tr>\n",
       "    <tr>\n",
       "      <th>75%</th>\n",
       "      <td>2290.000000</td>\n",
       "    </tr>\n",
       "    <tr>\n",
       "      <th>max</th>\n",
       "      <td>3980.000000</td>\n",
       "    </tr>\n",
       "  </tbody>\n",
       "</table>\n",
       "</div>"
      ],
      "text/plain": [
       "          100g당 가격\n",
       "count    33.000000\n",
       "mean   2042.997998\n",
       "std     478.153080\n",
       "min    1387.500000\n",
       "25%    1703.000000\n",
       "50%    1975.000000\n",
       "75%    2290.000000\n",
       "max    3980.000000"
      ]
     },
     "execution_count": 39,
     "metadata": {},
     "output_type": "execute_result"
    }
   ],
   "source": [
    "s_low=s1_2.loc[:32, ['100g당 가격']]\n",
    "s_low.describe()"
   ]
  },
  {
   "cell_type": "markdown",
   "id": "0418efc7",
   "metadata": {},
   "source": [
    "중간 무게 그룹"
   ]
  },
  {
   "cell_type": "code",
   "execution_count": 40,
   "id": "e07714a5",
   "metadata": {},
   "outputs": [
    {
     "name": "stdout",
     "output_type": "stream",
     "text": [
      "제품 무게 평균: 1.1105882352941177 kg\n"
     ]
    }
   ],
   "source": [
    "s_mid_m=s1_2.loc[33:66, '그람수']\n",
    "print(\"제품 무게 평균:\", s_mid_m.mean()/1000,\"kg\")"
   ]
  },
  {
   "cell_type": "code",
   "execution_count": 41,
   "id": "606d0cc6",
   "metadata": {
    "scrolled": false
   },
   "outputs": [
    {
     "data": {
      "text/html": [
       "<div>\n",
       "<style scoped>\n",
       "    .dataframe tbody tr th:only-of-type {\n",
       "        vertical-align: middle;\n",
       "    }\n",
       "\n",
       "    .dataframe tbody tr th {\n",
       "        vertical-align: top;\n",
       "    }\n",
       "\n",
       "    .dataframe thead th {\n",
       "        text-align: right;\n",
       "    }\n",
       "</style>\n",
       "<table border=\"1\" class=\"dataframe\">\n",
       "  <thead>\n",
       "    <tr style=\"text-align: right;\">\n",
       "      <th></th>\n",
       "      <th>100g당 가격</th>\n",
       "    </tr>\n",
       "  </thead>\n",
       "  <tbody>\n",
       "    <tr>\n",
       "      <th>count</th>\n",
       "      <td>34.000000</td>\n",
       "    </tr>\n",
       "    <tr>\n",
       "      <th>mean</th>\n",
       "      <td>2056.533782</td>\n",
       "    </tr>\n",
       "    <tr>\n",
       "      <th>std</th>\n",
       "      <td>331.424735</td>\n",
       "    </tr>\n",
       "    <tr>\n",
       "      <th>min</th>\n",
       "      <td>1395.000000</td>\n",
       "    </tr>\n",
       "    <tr>\n",
       "      <th>25%</th>\n",
       "      <td>1795.397727</td>\n",
       "    </tr>\n",
       "    <tr>\n",
       "      <th>50%</th>\n",
       "      <td>2005.500000</td>\n",
       "    </tr>\n",
       "    <tr>\n",
       "      <th>75%</th>\n",
       "      <td>2335.037879</td>\n",
       "    </tr>\n",
       "    <tr>\n",
       "      <th>max</th>\n",
       "      <td>2658.333333</td>\n",
       "    </tr>\n",
       "  </tbody>\n",
       "</table>\n",
       "</div>"
      ],
      "text/plain": [
       "          100g당 가격\n",
       "count    34.000000\n",
       "mean   2056.533782\n",
       "std     331.424735\n",
       "min    1395.000000\n",
       "25%    1795.397727\n",
       "50%    2005.500000\n",
       "75%    2335.037879\n",
       "max    2658.333333"
      ]
     },
     "execution_count": 41,
     "metadata": {},
     "output_type": "execute_result"
    }
   ],
   "source": [
    "s_mid=s1_2.loc[33:66, ['100g당 가격']]\n",
    "s_mid.describe()\n"
   ]
  },
  {
   "cell_type": "markdown",
   "id": "74f034ac",
   "metadata": {},
   "source": [
    "무게 높은 그룹"
   ]
  },
  {
   "cell_type": "code",
   "execution_count": 42,
   "id": "a78add7c",
   "metadata": {},
   "outputs": [
    {
     "name": "stdout",
     "output_type": "stream",
     "text": [
      "제품 무게 평균: 2.7606060606060607 kg\n"
     ]
    }
   ],
   "source": [
    "s_high_m=s1_2.loc[67:100, '그람수']\n",
    "print(\"제품 무게 평균:\", s_high_m.mean()/1000, \"kg\")"
   ]
  },
  {
   "cell_type": "code",
   "execution_count": 43,
   "id": "9d9d2281",
   "metadata": {
    "scrolled": true
   },
   "outputs": [
    {
     "data": {
      "text/plain": [
       "count      33.000000\n",
       "mean     1503.533832\n",
       "std       345.209468\n",
       "min       222.000000\n",
       "25%      1349.666667\n",
       "50%      1497.000000\n",
       "75%      1595.500000\n",
       "max      2250.000000\n",
       "Name: 100g당 가격, dtype: float64"
      ]
     },
     "execution_count": 43,
     "metadata": {},
     "output_type": "execute_result"
    }
   ],
   "source": [
    "s_high=s1_2.loc[67:100, '100g당 가격']\n",
    "s_high.describe()"
   ]
  },
  {
   "cell_type": "markdown",
   "id": "03ddb0b9",
   "metadata": {},
   "source": [
    "#### 가설 4번 (가공 닭가슴살) 결론: \n",
    "    판매 중량이 높을 수록 평균적인 100g당 가격이 저렴하다 \n",
    "    (그람당 가격 기준 높은 그룹과 낮은 그룹의 판매중량의 차이는 거의 없음)\n",
    "\n",
    "    판매중량 high (2.76 kg) = 1503.53원\n",
    "\n",
    "    판매중량 mid(1.11 kg) = 2056.53원\n",
    "\n",
    "    판매중량 low(0.79 kg) = 2042.99원"
   ]
  },
  {
   "cell_type": "markdown",
   "id": "dc814ef2",
   "metadata": {},
   "source": [
    "***"
   ]
  },
  {
   "cell_type": "markdown",
   "id": "07a0107f",
   "metadata": {},
   "source": [
    "#### 가설 4번(생닭가슴살) : 제품무게가 무거울수록 g당 가격이 저렴할 것이다.\n",
    "\n"
   ]
  },
  {
   "cell_type": "code",
   "execution_count": 44,
   "id": "ca816ce8",
   "metadata": {
    "scrolled": true
   },
   "outputs": [
    {
     "data": {
      "text/html": [
       "<div>\n",
       "<style scoped>\n",
       "    .dataframe tbody tr th:only-of-type {\n",
       "        vertical-align: middle;\n",
       "    }\n",
       "\n",
       "    .dataframe tbody tr th {\n",
       "        vertical-align: top;\n",
       "    }\n",
       "\n",
       "    .dataframe thead th {\n",
       "        text-align: right;\n",
       "    }\n",
       "</style>\n",
       "<table border=\"1\" class=\"dataframe\">\n",
       "  <thead>\n",
       "    <tr style=\"text-align: right;\">\n",
       "      <th></th>\n",
       "      <th>브랜드명</th>\n",
       "      <th>그람수</th>\n",
       "      <th>가격</th>\n",
       "      <th>판매순위</th>\n",
       "      <th>배송비</th>\n",
       "      <th>총 가격</th>\n",
       "      <th>100g당 가격</th>\n",
       "    </tr>\n",
       "  </thead>\n",
       "  <tbody>\n",
       "    <tr>\n",
       "      <th>48</th>\n",
       "      <td>푸르델리</td>\n",
       "      <td>120</td>\n",
       "      <td>900</td>\n",
       "      <td>49</td>\n",
       "      <td>4000</td>\n",
       "      <td>4900</td>\n",
       "      <td>4083.333333</td>\n",
       "    </tr>\n",
       "    <tr>\n",
       "      <th>54</th>\n",
       "      <td>새벽닭</td>\n",
       "      <td>120</td>\n",
       "      <td>1100</td>\n",
       "      <td>55</td>\n",
       "      <td>3000</td>\n",
       "      <td>4100</td>\n",
       "      <td>3416.666667</td>\n",
       "    </tr>\n",
       "    <tr>\n",
       "      <th>2</th>\n",
       "      <td>하림</td>\n",
       "      <td>400</td>\n",
       "      <td>6110</td>\n",
       "      <td>3</td>\n",
       "      <td>0</td>\n",
       "      <td>6110</td>\n",
       "      <td>1527.500000</td>\n",
       "    </tr>\n",
       "    <tr>\n",
       "      <th>1</th>\n",
       "      <td>하림</td>\n",
       "      <td>800</td>\n",
       "      <td>10690</td>\n",
       "      <td>2</td>\n",
       "      <td>0</td>\n",
       "      <td>10690</td>\n",
       "      <td>1336.250000</td>\n",
       "    </tr>\n",
       "    <tr>\n",
       "      <th>38</th>\n",
       "      <td>하림</td>\n",
       "      <td>800</td>\n",
       "      <td>12250</td>\n",
       "      <td>39</td>\n",
       "      <td>0</td>\n",
       "      <td>12250</td>\n",
       "      <td>1531.250000</td>\n",
       "    </tr>\n",
       "    <tr>\n",
       "      <th>...</th>\n",
       "      <td>...</td>\n",
       "      <td>...</td>\n",
       "      <td>...</td>\n",
       "      <td>...</td>\n",
       "      <td>...</td>\n",
       "      <td>...</td>\n",
       "      <td>...</td>\n",
       "    </tr>\n",
       "    <tr>\n",
       "      <th>53</th>\n",
       "      <td>다고리</td>\n",
       "      <td>10000</td>\n",
       "      <td>65000</td>\n",
       "      <td>54</td>\n",
       "      <td>0</td>\n",
       "      <td>65000</td>\n",
       "      <td>650.000000</td>\n",
       "    </tr>\n",
       "    <tr>\n",
       "      <th>16</th>\n",
       "      <td>금보식품</td>\n",
       "      <td>10000</td>\n",
       "      <td>53000</td>\n",
       "      <td>17</td>\n",
       "      <td>3500</td>\n",
       "      <td>56500</td>\n",
       "      <td>565.000000</td>\n",
       "    </tr>\n",
       "    <tr>\n",
       "      <th>20</th>\n",
       "      <td>모디바</td>\n",
       "      <td>10000</td>\n",
       "      <td>64500</td>\n",
       "      <td>21</td>\n",
       "      <td>3000</td>\n",
       "      <td>67500</td>\n",
       "      <td>675.000000</td>\n",
       "    </tr>\n",
       "    <tr>\n",
       "      <th>49</th>\n",
       "      <td>하림</td>\n",
       "      <td>10000</td>\n",
       "      <td>79180</td>\n",
       "      <td>50</td>\n",
       "      <td>8000</td>\n",
       "      <td>87180</td>\n",
       "      <td>871.800000</td>\n",
       "    </tr>\n",
       "    <tr>\n",
       "      <th>51</th>\n",
       "      <td>굽네 로드닭</td>\n",
       "      <td>50000</td>\n",
       "      <td>46600</td>\n",
       "      <td>52</td>\n",
       "      <td>0</td>\n",
       "      <td>46600</td>\n",
       "      <td>93.200000</td>\n",
       "    </tr>\n",
       "  </tbody>\n",
       "</table>\n",
       "<p>75 rows × 7 columns</p>\n",
       "</div>"
      ],
      "text/plain": [
       "      브랜드명    그람수     가격  판매순위   배송비   총 가격     100g당 가격\n",
       "48    푸르델리    120    900    49  4000   4900  4083.333333\n",
       "54     새벽닭    120   1100    55  3000   4100  3416.666667\n",
       "2       하림    400   6110     3     0   6110  1527.500000\n",
       "1       하림    800  10690     2     0  10690  1336.250000\n",
       "38      하림    800  12250    39     0  12250  1531.250000\n",
       "..     ...    ...    ...   ...   ...    ...          ...\n",
       "53     다고리  10000  65000    54     0  65000   650.000000\n",
       "16    금보식품  10000  53000    17  3500  56500   565.000000\n",
       "20     모디바  10000  64500    21  3000  67500   675.000000\n",
       "49      하림  10000  79180    50  8000  87180   871.800000\n",
       "51  굽네 로드닭  50000  46600    52     0  46600    93.200000\n",
       "\n",
       "[75 rows x 7 columns]"
      ]
     },
     "execution_count": 44,
     "metadata": {},
     "output_type": "execute_result"
    }
   ],
   "source": [
    "s2=A.sort_values(by=[A.columns[1]], ascending=True)\n",
    "s2"
   ]
  },
  {
   "cell_type": "code",
   "execution_count": 45,
   "id": "738874be",
   "metadata": {},
   "outputs": [
    {
     "data": {
      "text/html": [
       "<div>\n",
       "<style scoped>\n",
       "    .dataframe tbody tr th:only-of-type {\n",
       "        vertical-align: middle;\n",
       "    }\n",
       "\n",
       "    .dataframe tbody tr th {\n",
       "        vertical-align: top;\n",
       "    }\n",
       "\n",
       "    .dataframe thead th {\n",
       "        text-align: right;\n",
       "    }\n",
       "</style>\n",
       "<table border=\"1\" class=\"dataframe\">\n",
       "  <thead>\n",
       "    <tr style=\"text-align: right;\">\n",
       "      <th></th>\n",
       "      <th>index</th>\n",
       "      <th>그람수</th>\n",
       "      <th>100g당 가격</th>\n",
       "    </tr>\n",
       "  </thead>\n",
       "  <tbody>\n",
       "    <tr>\n",
       "      <th>0</th>\n",
       "      <td>48</td>\n",
       "      <td>120</td>\n",
       "      <td>4083.333333</td>\n",
       "    </tr>\n",
       "    <tr>\n",
       "      <th>1</th>\n",
       "      <td>54</td>\n",
       "      <td>120</td>\n",
       "      <td>3416.666667</td>\n",
       "    </tr>\n",
       "    <tr>\n",
       "      <th>2</th>\n",
       "      <td>2</td>\n",
       "      <td>400</td>\n",
       "      <td>1527.500000</td>\n",
       "    </tr>\n",
       "    <tr>\n",
       "      <th>3</th>\n",
       "      <td>1</td>\n",
       "      <td>800</td>\n",
       "      <td>1336.250000</td>\n",
       "    </tr>\n",
       "    <tr>\n",
       "      <th>4</th>\n",
       "      <td>38</td>\n",
       "      <td>800</td>\n",
       "      <td>1531.250000</td>\n",
       "    </tr>\n",
       "    <tr>\n",
       "      <th>...</th>\n",
       "      <td>...</td>\n",
       "      <td>...</td>\n",
       "      <td>...</td>\n",
       "    </tr>\n",
       "    <tr>\n",
       "      <th>70</th>\n",
       "      <td>53</td>\n",
       "      <td>10000</td>\n",
       "      <td>650.000000</td>\n",
       "    </tr>\n",
       "    <tr>\n",
       "      <th>71</th>\n",
       "      <td>16</td>\n",
       "      <td>10000</td>\n",
       "      <td>565.000000</td>\n",
       "    </tr>\n",
       "    <tr>\n",
       "      <th>72</th>\n",
       "      <td>20</td>\n",
       "      <td>10000</td>\n",
       "      <td>675.000000</td>\n",
       "    </tr>\n",
       "    <tr>\n",
       "      <th>73</th>\n",
       "      <td>49</td>\n",
       "      <td>10000</td>\n",
       "      <td>871.800000</td>\n",
       "    </tr>\n",
       "    <tr>\n",
       "      <th>74</th>\n",
       "      <td>51</td>\n",
       "      <td>50000</td>\n",
       "      <td>93.200000</td>\n",
       "    </tr>\n",
       "  </tbody>\n",
       "</table>\n",
       "<p>75 rows × 3 columns</p>\n",
       "</div>"
      ],
      "text/plain": [
       "    index    그람수     100g당 가격\n",
       "0      48    120  4083.333333\n",
       "1      54    120  3416.666667\n",
       "2       2    400  1527.500000\n",
       "3       1    800  1336.250000\n",
       "4      38    800  1531.250000\n",
       "..    ...    ...          ...\n",
       "70     53  10000   650.000000\n",
       "71     16  10000   565.000000\n",
       "72     20  10000   675.000000\n",
       "73     49  10000   871.800000\n",
       "74     51  50000    93.200000\n",
       "\n",
       "[75 rows x 3 columns]"
      ]
     },
     "execution_count": 45,
     "metadata": {},
     "output_type": "execute_result"
    }
   ],
   "source": [
    "s2_1=s2[['그람수', '100g당 가격']]\n",
    "s2_2=s2_1.reset_index()\n",
    "s2_2"
   ]
  },
  {
   "cell_type": "markdown",
   "id": "67078e99",
   "metadata": {},
   "source": [
    "낮은 무게 그룹"
   ]
  },
  {
   "cell_type": "code",
   "execution_count": 46,
   "id": "69ed5408",
   "metadata": {},
   "outputs": [
    {
     "name": "stdout",
     "output_type": "stream",
     "text": [
      "제품 무게 평균: 1.2255999999999998 kg\n"
     ]
    }
   ],
   "source": [
    "s2_low_m=s2_2.loc[:24, '그람수']\n",
    "print(\"제품 무게 평균:\", s2_low_m.mean()/1000,\"kg\")"
   ]
  },
  {
   "cell_type": "code",
   "execution_count": 47,
   "id": "065a406d",
   "metadata": {},
   "outputs": [
    {
     "data": {
      "text/html": [
       "<div>\n",
       "<style scoped>\n",
       "    .dataframe tbody tr th:only-of-type {\n",
       "        vertical-align: middle;\n",
       "    }\n",
       "\n",
       "    .dataframe tbody tr th {\n",
       "        vertical-align: top;\n",
       "    }\n",
       "\n",
       "    .dataframe thead th {\n",
       "        text-align: right;\n",
       "    }\n",
       "</style>\n",
       "<table border=\"1\" class=\"dataframe\">\n",
       "  <thead>\n",
       "    <tr style=\"text-align: right;\">\n",
       "      <th></th>\n",
       "      <th>100g당 가격</th>\n",
       "    </tr>\n",
       "  </thead>\n",
       "  <tbody>\n",
       "    <tr>\n",
       "      <th>count</th>\n",
       "      <td>25.000000</td>\n",
       "    </tr>\n",
       "    <tr>\n",
       "      <th>mean</th>\n",
       "      <td>1354.206667</td>\n",
       "    </tr>\n",
       "    <tr>\n",
       "      <th>std</th>\n",
       "      <td>774.082496</td>\n",
       "    </tr>\n",
       "    <tr>\n",
       "      <th>min</th>\n",
       "      <td>775.000000</td>\n",
       "    </tr>\n",
       "    <tr>\n",
       "      <th>25%</th>\n",
       "      <td>940.000000</td>\n",
       "    </tr>\n",
       "    <tr>\n",
       "      <th>50%</th>\n",
       "      <td>1100.000000</td>\n",
       "    </tr>\n",
       "    <tr>\n",
       "      <th>75%</th>\n",
       "      <td>1527.500000</td>\n",
       "    </tr>\n",
       "    <tr>\n",
       "      <th>max</th>\n",
       "      <td>4083.333333</td>\n",
       "    </tr>\n",
       "  </tbody>\n",
       "</table>\n",
       "</div>"
      ],
      "text/plain": [
       "          100g당 가격\n",
       "count    25.000000\n",
       "mean   1354.206667\n",
       "std     774.082496\n",
       "min     775.000000\n",
       "25%     940.000000\n",
       "50%    1100.000000\n",
       "75%    1527.500000\n",
       "max    4083.333333"
      ]
     },
     "execution_count": 47,
     "metadata": {},
     "output_type": "execute_result"
    }
   ],
   "source": [
    "s2_low=s2_2.loc[:24, ['100g당 가격']]\n",
    "s2_low.describe()"
   ]
  },
  {
   "cell_type": "markdown",
   "id": "23fdd45f",
   "metadata": {},
   "source": [
    "중간 무게 그룹"
   ]
  },
  {
   "cell_type": "code",
   "execution_count": 48,
   "id": "3a9ffa62",
   "metadata": {},
   "outputs": [
    {
     "name": "stdout",
     "output_type": "stream",
     "text": [
      "제품 무게 평균: 3.56 kg\n"
     ]
    }
   ],
   "source": [
    "s2_mid_m=s2_2.loc[24:48, '그람수']\n",
    "print(\"제품 무게 평균:\", s2_mid_m.mean()/1000,\"kg\")"
   ]
  },
  {
   "cell_type": "code",
   "execution_count": 49,
   "id": "c0702adf",
   "metadata": {},
   "outputs": [
    {
     "data": {
      "text/html": [
       "<div>\n",
       "<style scoped>\n",
       "    .dataframe tbody tr th:only-of-type {\n",
       "        vertical-align: middle;\n",
       "    }\n",
       "\n",
       "    .dataframe tbody tr th {\n",
       "        vertical-align: top;\n",
       "    }\n",
       "\n",
       "    .dataframe thead th {\n",
       "        text-align: right;\n",
       "    }\n",
       "</style>\n",
       "<table border=\"1\" class=\"dataframe\">\n",
       "  <thead>\n",
       "    <tr style=\"text-align: right;\">\n",
       "      <th></th>\n",
       "      <th>100g당 가격</th>\n",
       "    </tr>\n",
       "  </thead>\n",
       "  <tbody>\n",
       "    <tr>\n",
       "      <th>count</th>\n",
       "      <td>25.000000</td>\n",
       "    </tr>\n",
       "    <tr>\n",
       "      <th>mean</th>\n",
       "      <td>787.837333</td>\n",
       "    </tr>\n",
       "    <tr>\n",
       "      <th>std</th>\n",
       "      <td>111.704829</td>\n",
       "    </tr>\n",
       "    <tr>\n",
       "      <th>min</th>\n",
       "      <td>600.000000</td>\n",
       "    </tr>\n",
       "    <tr>\n",
       "      <th>25%</th>\n",
       "      <td>690.000000</td>\n",
       "    </tr>\n",
       "    <tr>\n",
       "      <th>50%</th>\n",
       "      <td>770.000000</td>\n",
       "    </tr>\n",
       "    <tr>\n",
       "      <th>75%</th>\n",
       "      <td>876.666667</td>\n",
       "    </tr>\n",
       "    <tr>\n",
       "      <th>max</th>\n",
       "      <td>1023.333333</td>\n",
       "    </tr>\n",
       "  </tbody>\n",
       "</table>\n",
       "</div>"
      ],
      "text/plain": [
       "          100g당 가격\n",
       "count    25.000000\n",
       "mean    787.837333\n",
       "std     111.704829\n",
       "min     600.000000\n",
       "25%     690.000000\n",
       "50%     770.000000\n",
       "75%     876.666667\n",
       "max    1023.333333"
      ]
     },
     "execution_count": 49,
     "metadata": {},
     "output_type": "execute_result"
    }
   ],
   "source": [
    "s2_mid=s2_2.loc[24:48, ['100g당 가격']]\n",
    "s2_mid.describe()"
   ]
  },
  {
   "cell_type": "markdown",
   "id": "80be21cb",
   "metadata": {},
   "source": [
    "높은 무게 그룹"
   ]
  },
  {
   "cell_type": "code",
   "execution_count": 50,
   "id": "1872cfc6",
   "metadata": {},
   "outputs": [
    {
     "name": "stdout",
     "output_type": "stream",
     "text": [
      "제품 무게 평균: 9.8 kg\n"
     ]
    }
   ],
   "source": [
    "s2_high_m=s2_2.loc[50:, '그람수']\n",
    "print(\"제품 무게 평균:\", s2_high_m.mean()/1000,\"kg\")"
   ]
  },
  {
   "cell_type": "code",
   "execution_count": 51,
   "id": "a75a0854",
   "metadata": {
    "scrolled": true
   },
   "outputs": [
    {
     "data": {
      "text/html": [
       "<div>\n",
       "<style scoped>\n",
       "    .dataframe tbody tr th:only-of-type {\n",
       "        vertical-align: middle;\n",
       "    }\n",
       "\n",
       "    .dataframe tbody tr th {\n",
       "        vertical-align: top;\n",
       "    }\n",
       "\n",
       "    .dataframe thead th {\n",
       "        text-align: right;\n",
       "    }\n",
       "</style>\n",
       "<table border=\"1\" class=\"dataframe\">\n",
       "  <thead>\n",
       "    <tr style=\"text-align: right;\">\n",
       "      <th></th>\n",
       "      <th>100g당 가격</th>\n",
       "    </tr>\n",
       "  </thead>\n",
       "  <tbody>\n",
       "    <tr>\n",
       "      <th>count</th>\n",
       "      <td>25.000000</td>\n",
       "    </tr>\n",
       "    <tr>\n",
       "      <th>mean</th>\n",
       "      <td>690.472000</td>\n",
       "    </tr>\n",
       "    <tr>\n",
       "      <th>std</th>\n",
       "      <td>181.346546</td>\n",
       "    </tr>\n",
       "    <tr>\n",
       "      <th>min</th>\n",
       "      <td>93.200000</td>\n",
       "    </tr>\n",
       "    <tr>\n",
       "      <th>25%</th>\n",
       "      <td>624.000000</td>\n",
       "    </tr>\n",
       "    <tr>\n",
       "      <th>50%</th>\n",
       "      <td>650.000000</td>\n",
       "    </tr>\n",
       "    <tr>\n",
       "      <th>75%</th>\n",
       "      <td>778.000000</td>\n",
       "    </tr>\n",
       "    <tr>\n",
       "      <th>max</th>\n",
       "      <td>1076.000000</td>\n",
       "    </tr>\n",
       "  </tbody>\n",
       "</table>\n",
       "</div>"
      ],
      "text/plain": [
       "          100g당 가격\n",
       "count    25.000000\n",
       "mean    690.472000\n",
       "std     181.346546\n",
       "min      93.200000\n",
       "25%     624.000000\n",
       "50%     650.000000\n",
       "75%     778.000000\n",
       "max    1076.000000"
      ]
     },
     "execution_count": 51,
     "metadata": {},
     "output_type": "execute_result"
    }
   ],
   "source": [
    "s2_high=s2_2.loc[50:, ['100g당 가격']]\n",
    "s2_high.describe()"
   ]
  },
  {
   "cell_type": "markdown",
   "id": "6a544c66",
   "metadata": {},
   "source": [
    "#### 가설 4번 (생닭가슴살) 결론:\n",
    "    대체적으로 판매 중량이 높을 수록 평균적인 100g당 가격이 저렴하고 \n",
    "\n",
    "    무게가 낮은 그룹의 가격이 다른 그룹(중간, 높은 그룹)에 비해 특히 더 비쌈.\n",
    "    \n",
    "    판매중량 high (9.8 kg) = 690.47원\n",
    "\n",
    "    판매중량 mid(3.56 kg) = 787.83원\n",
    "\n",
    "    판매중량 low(1.22 kg) = 1354.20원"
   ]
  },
  {
   "cell_type": "markdown",
   "id": "0938f113",
   "metadata": {},
   "source": [
    "### 추가적으로 생닭가슴살이 가공닭가슴살보다 2배정도 저렴하다는 것도 알 수 있었음"
   ]
  },
  {
   "cell_type": "markdown",
   "id": "16171683",
   "metadata": {},
   "source": [
    "참고자료: 강의자료, 쿠팡 닭가슴살 제품 정보"
   ]
  }
 ],
 "metadata": {
  "kernelspec": {
   "display_name": "Python 3 (ipykernel)",
   "language": "python",
   "name": "python3"
  },
  "language_info": {
   "codemirror_mode": {
    "name": "ipython",
    "version": 3
   },
   "file_extension": ".py",
   "mimetype": "text/x-python",
   "name": "python",
   "nbconvert_exporter": "python",
   "pygments_lexer": "ipython3",
   "version": "3.9.12"
  }
 },
 "nbformat": 4,
 "nbformat_minor": 5
}
